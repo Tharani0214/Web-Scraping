{
  "nbformat": 4,
  "nbformat_minor": 0,
  "metadata": {
    "colab": {
      "provenance": []
    },
    "kernelspec": {
      "name": "python3",
      "display_name": "Python 3"
    },
    "language_info": {
      "name": "python"
    }
  },
  "cells": [
    {
      "cell_type": "code",
      "execution_count": null,
      "metadata": {
        "id": "mgBGKhJ5Vmsu"
      },
      "outputs": [],
      "source": [
        "import requests\n",
        "from bs4 import BeautifulSoup\n",
        "import pandas as pd\n",
        "import re\n",
        "import urllib.parse"
      ]
    },
    {
      "cell_type": "code",
      "source": [
        "# Initial global variables\n",
        "keywords = ['food']\n",
        "locations = ['San Francisco, CA']\n",
        "page = 4\n",
        "\n",
        "# Regex pattern for phone\n",
        "pattern_phone = r'\\(\\d{3}\\)\\s\\d{3}-\\d{4}'\n",
        "\n",
        "# Looping logic to iterate through every location and keyword\n",
        "for kl in locations:\n",
        "    key_location = urllib.parse.quote(kl)\n",
        "    for kw in keywords:\n",
        "        key_word = kw.lower().strip().replace(' ', '+')\n",
        "\n",
        "        # Individual dict for every keyword per each location\n",
        "        df = {'Name': [], 'Website': [], 'Phone': [], 'Street': [], 'Address': []}\n",
        "\n",
        "        # Handle exceptions in case of lack of data\n",
        "        try:\n",
        "            for pg in range(1, page + 1):\n",
        "                url = f\"https://www.yelp.com/search?find_desc={key_word}&find_loc={key_location}&start={(pg - 1) * 10}\"\n",
        "                source = requests.get(url, headers={\"User-Agent\": \"Mozilla/5.0\"})\n",
        "                soup = BeautifulSoup(source.text, 'html.parser')\n",
        "                businesses = soup.find_all('div', class_='container__09f24__21w3G')\n",
        "\n",
        "                for business in businesses:\n",
        "                    # Variable declaration\n",
        "                    name, website, phone, street, locality = '', '', '', '', ''\n",
        "                    address = street + ', ' + locality\n",
        "\n",
        "                    # Variable to store name data\n",
        "                    name_elem = business.find('a', class_='link-color--inherit__09f24__3PYlA')\n",
        "                    if name_elem:\n",
        "                        name = name_elem.get_text(strip=True)\n",
        "\n",
        "                    # Variable to store website\n",
        "                    website_elem = business.find('a', class_='css-166la90')\n",
        "                    if website_elem:\n",
        "                        website = website_elem['href']\n",
        "\n",
        "                    # Variable to store phone number\n",
        "                    phone_elem = business.find('p', class_='css-1p9ibgf')\n",
        "                    if phone_elem:\n",
        "                        phone_match = re.search(pattern_phone, phone_elem.get_text())\n",
        "                        if phone_match:\n",
        "                            phone = phone_match.group()\n",
        "\n",
        "                    # Variable to store address\n",
        "                    address_elem = business.find('p', class_=' css-qyp8bo')\n",
        "                    if address_elem:\n",
        "                        address_parts = address_elem.get_text().split('\\n')\n",
        "                        if len(address_parts) > 1:\n",
        "                            street = address_parts[1]\n",
        "                        if len(address_parts) > 2:\n",
        "                            locality = address_parts[2]\n",
        "\n",
        "                    # Concatenate street and locality\n",
        "                    address = street + ', ' + locality\n",
        "\n",
        "                    # Push data into dictionary\n",
        "                    if locality:\n",
        "                        df['Name'].append(name)\n",
        "                        df['Website'].append(website)\n",
        "                        df['Phone'].append(phone)\n",
        "                        df['Street'].append(street)\n",
        "                        df['Address'].append(address)\n",
        "\n",
        "        except Exception as e:\n",
        "            print(f'Partial data extracted for {kw} in {kl}. Error: {e}')\n",
        "        else:\n",
        "            print(f'Complete data extracted for {kw} in {kl}')\n",
        "\n",
        "        # Change the dict to DataFrame\n",
        "        dataframe = pd.DataFrame(df)\n",
        "\n",
        "        # Download dataset as CSV\n",
        "        k_word = kw.replace('+', '_')\n",
        "        k_location = kl.replace(\",\", \"\").replace(\" \", \"_\")\n",
        "        dataframe.to_csv(f'{k_word}_{k_location}.csv')"
      ],
      "metadata": {
        "id": "QcvsOqMLVto-",
        "colab": {
          "base_uri": "https://localhost:8080/"
        },
        "outputId": "23861957-2f4b-4a8b-8fcc-9b54f07c2fa5"
      },
      "execution_count": null,
      "outputs": [
        {
          "output_type": "stream",
          "name": "stdout",
          "text": [
            "Complete data extracted for education in Toronto, ON\n"
          ]
        }
      ]
    }
  ]
}